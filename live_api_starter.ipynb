{
  "cells": [
    {
      "cell_type": "markdown",
      "metadata": {
        "id": "Tce3stUlHN0L"
      },
      "source": [
        "##### Copyright 2024 Google LLC."
      ]
    },
    {
      "cell_type": "code",
      "execution_count": null,
      "metadata": {
        "cellView": "form",
        "id": "tuOe1ymfHZPu"
      },
      "outputs": [],
      "source": [
        "#@title Licensed under the Apache License, Version 2.0 (the \"License\");\n",
        "# you may not use this file except in compliance with the License.\n",
        "# You may obtain a copy of the License at\n",
        "#\n",
        "# https://www.apache.org/licenses/LICENSE-2.0\n",
        "#\n",
        "# Unless required by applicable law or agreed to in writing, software\n",
        "# distributed under the License is distributed on an \"AS IS\" BASIS,\n",
        "# WITHOUT WARRANTIES OR CONDITIONS OF ANY KIND, either express or implied.\n",
        "# See the License for the specific language governing permissions and\n",
        "# limitations under the License."
      ]
    },
    {
      "cell_type": "markdown",
      "metadata": {
        "id": "R5DkeFMP75as"
      },
      "source": [
        "# Live API - Quickstart"
      ]
    },
    {
      "cell_type": "markdown",
      "metadata": {
        "id": "tqktCVDm1yFo"
      },
      "source": [
        "<table align=\"left\">\n",
        "  <td>\n",
        "    <a target=\"_blank\" href=\"https://colab.research.google.com/github/panaversity/learn-agentic-ai/blob/main/00_helloworld_ai_api/00_gemini_2_simple_live_api_helloworld/live_api_starter.ipynb\"><img src=\"https://ai.google.dev/site-assets/images/docs/colab_logo_32px.png\" />Run in Google Colab</a>\n",
        "  </td>\n",
        "</table>"
      ]
    },
    {
      "cell_type": "markdown",
      "metadata": {
        "id": "iS0rHk3RBrtA"
      },
      "source": [
        "# Google Gen AI SDK (experimental)\n",
        "The new Google Gen AI SDK provides a unified interface to Gemini 2.0 through both the Gemini Developer API and the Gemini API on Vertex AI. With a few exceptions, code that runs on one platform will run on both. This means that you can prototype an application using the Developer API and then migrate the application to Vertex AI without rewriting your code.\n",
        "\n",
        "The Gen AI SDK also supports the Gemini 1.5 models.\n",
        "\n",
        "The new SDK is available in Python and Go, with Java and JavaScript coming soon.\n",
        "\n",
        "You can start using the SDK as shown below.\n",
        "\n",
        "Install the new SDK: pip install google-genai\n",
        "\n",
        "Then import the library, initialize a client, and generate content:"
      ]
    },
    {
      "cell_type": "markdown",
      "metadata": {
        "id": "Mfk6YY3G5kqp"
      },
      "source": [
        "## Setup"
      ]
    },
    {
      "cell_type": "markdown",
      "metadata": {
        "id": "d5027929de8f"
      },
      "source": [
        "### Install SDK\n",
        "\n",
        "The new **[Google Gen AI SDK](https://ai.google.dev/gemini-api/docs/sdks)** provides programmatic access to Gemini 2.0 (and previous models) using both the [Google AI for Developers](https://ai.google.dev/gemini-api/docs) and [Vertex AI](https://cloud.google.com/vertex-ai/generative-ai/docs/overview) APIs. With a few exceptions, code that runs on one platform will run on both.\n",
        "\n",
        "More details about this new SDK on the [documentation](https://ai.google.dev/gemini-api/docs/sdks) or in the [Getting started](../gemini-2/get_started.ipynb) notebook."
      ]
    },
    {
      "cell_type": "code",
      "execution_count": 13,
      "metadata": {
        "id": "46zEFO2a9FFd"
      },
      "outputs": [],
      "source": [
        "!pip install -U -q google-genai"
      ]
    },
    {
      "cell_type": "markdown",
      "metadata": {
        "id": "CTIfnvCn9HvH"
      },
      "source": [
        "### Set up your API key\n",
        "\n",
        "To run the following cell, your API key must be stored in a Colab Secret named `GOOGLE_API_KEY`. If you don't already have an API key, or you're not sure how to create a Colab Secret, see [Authentication](../quickstarts/Authentication.ipynb) for an example."
      ]
    },
    {
      "cell_type": "code",
      "execution_count": 14,
      "metadata": {
        "id": "A1pkoyZb9Jm3"
      },
      "outputs": [],
      "source": [
        "from google.colab import userdata\n",
        "import os\n",
        "\n",
        "os.environ['GOOGLE_API_KEY'] = userdata.get('GOOGLE_API_KEY')"
      ]
    },
    {
      "cell_type": "markdown",
      "metadata": {
        "id": "GOOZsm7i9io6"
      },
      "source": [
        "### Import\n",
        "\n",
        "Import all the necessary modules."
      ]
    },
    {
      "cell_type": "code",
      "execution_count": 15,
      "metadata": {
        "id": "Yd1vs3cP8EmS"
      },
      "outputs": [],
      "source": [
        "from google import genai"
      ]
    },
    {
      "cell_type": "markdown",
      "metadata": {
        "id": "3Hx_Gw9i0Yuv"
      },
      "source": [
        "### Initialize SDK client\n",
        "\n",
        "The client will pick up your API key from the environment variable.\n",
        "To use the live API you need to set the client version to `v1alpha`."
      ]
    },
    {
      "cell_type": "code",
      "execution_count": 16,
      "metadata": {
        "id": "HghvVpbU0Uap"
      },
      "outputs": [],
      "source": [
        "from google import genai\n",
        "client = genai.Client()"
      ]
    },
    {
      "cell_type": "markdown",
      "metadata": {
        "id": "QOov6dpG99rY"
      },
      "source": [
        "### Select a model\n",
        "\n",
        "Multimodal Live API are a new capability introduced with the [Gemini 2.0](https://ai.google.dev/gemini-api/docs/models/gemini-v2) model. It won't work with previous generation models.\n"
      ]
    },
    {
      "cell_type": "code",
      "execution_count": 17,
      "metadata": {
        "id": "27Fikag0xSaB"
      },
      "outputs": [],
      "source": [
        "MODEL: str = \"gemini-2.0-flash-exp\""
      ]
    },
    {
      "cell_type": "markdown",
      "metadata": {
        "id": "jj7gDzfDOq4h"
      },
      "source": [
        "## Text to Text\n",
        "\n",
        "The simplest way to use the Live API is as a text-to-text chat interface, but it can do **a lot** more than this."
      ]
    },
    {
      "cell_type": "code",
      "execution_count": 20,
      "metadata": {
        "colab": {
          "base_uri": "https://localhost:8080/"
        },
        "id": "dDfslcyIOqgI",
        "outputId": "029cd7c7-bcff-41e0-a34e-6f2d0d52a199"
      },
      "outputs": [
        {
          "output_type": "stream",
          "name": "stdout",
          "text": [
            "That's a great question! Understanding how AI works can feel a bit like peeling an onion – there are layers of complexity. But let's break it down to the core concepts. In essence, AI strives to make computers think and act like humans (or even better than humans) by processing information and learning from it. Here's a simplified overview of how it works, focusing on the dominant approach today:\n",
            "\n",
            "**Core Concepts**\n",
            "\n",
            "1. **Data:** AI, especially in its most prevalent form (Machine Learning), thrives on data. This can be anything: text, images, audio, numbers, sensor readings, etc. The more data, the better the AI can learn. Think of it as fuel for the AI engine.\n",
            "\n",
            "2. **Algorithms:** Algorithms are the instructions or rules that an AI system follows. They're essentially mathematical recipes that tell the computer how to process the data and make decisions. Different types of AI use different algorithms.\n",
            "\n",
            "3. **Machine Learning (ML):** This is a subset of AI and the most common way we achieve AI capabilities today. Instead of explicitly programming rules, we *train* ML models using data. The algorithms automatically identify patterns and relationships in the data. There are different types of ML:\n",
            "    *   **Supervised Learning:** The AI is given labeled data (e.g., pictures of cats labeled \"cat\" and pictures of dogs labeled \"dog\"). The algorithm learns to map inputs (images) to outputs (labels) based on these examples. This is used for tasks like image recognition and spam detection.\n",
            "    *   **Unsupervised Learning:** The AI is given unlabeled data. It tries to find structure and patterns on its own, like grouping similar data points. Examples include customer segmentation and anomaly detection.\n",
            "    *   **Reinforcement Learning:** The AI learns through trial and error by interacting with an environment. It receives rewards (positive feedback) or penalties (negative feedback) for its actions and tries to maximize its rewards. This is used in game playing, robotics, and autonomous driving.\n",
            "\n",
            "4. **Neural Networks (Deep Learning):**  A powerful subfield of ML, especially for complex tasks. Neural networks are inspired by the structure of the human brain. They consist of layers of interconnected nodes (neurons) that process information in stages.\n",
            "    *   **Input Layer:** Receives the initial data.\n",
            "    *   **Hidden Layers:** Perform complex calculations, identifying patterns and features in the data.\n",
            "    *   **Output Layer:** Produces the final result.\n",
            "    *   **Deep Learning:** Utilizes neural networks with many hidden layers, allowing for learning of very complex and abstract patterns.\n",
            "\n",
            "**The Training Process**\n",
            "\n",
            "1.  **Data Collection and Preprocessing:** Raw data is collected, cleaned, and prepared for use by the algorithm. This might involve formatting the data, handling missing values, and transforming data into a usable format.\n",
            "\n",
            "2.  **Model Selection:**  An appropriate algorithm or architecture (like a neural network) is selected based on the task at hand.\n",
            "\n",
            "3.  **Training:** The model is fed the data, and the algorithm adjusts its internal parameters to optimize its performance (e.g., predicting the correct output). This process is iterative, with the model repeatedly adjusting its parameters to minimize error and improve its accuracy.\n",
            "\n",
            "4.  **Validation:** The model is tested on a separate dataset (not used during training) to see how well it generalizes to unseen data.\n",
            "\n",
            "5.  **Deployment:** Once the model is performing well, it is deployed into the real world to solve the task it was trained for.\n",
            "\n",
            "6.  **Monitoring and Retraining:** The performance of the model is monitored, and it is periodically retrained with new data to improve its accuracy and adapt to changing situations.\n",
            "\n",
            "**Analogy: Learning to Ride a Bike**\n",
            "\n",
            "Think of learning to ride a bike:\n",
            "\n",
            "*   **Data:** Your experiences trying to ride (falling down, balancing for a second, etc.).\n",
            "*   **Algorithm:** Your brain's learning mechanisms (unconsciously adjusting balance, steering, etc.).\n",
            "*   **Machine Learning:** You improve your riding skills through practice and feedback (trial and error).\n",
            "*   **Neural Networks:** Your brain's networks that learn how to coordinate balance and movement.\n",
            "\n",
            "**Key Takeaways**\n",
            "\n",
            "*   AI relies heavily on data to learn.\n",
            "*   Machine learning, especially deep learning, is a common approach.\n",
            "*   Algorithms are the instructions that tell the computer what to do with the data.\n",
            "*   Training is crucial for AI to learn and improve.\n",
            "*   The goal is to create systems that can make intelligent decisions and solve problems, just like humans.\n",
            "\n",
            "**Important Considerations:**\n",
            "\n",
            "*   **Bias:** AI can inherit biases from the data it is trained on, leading to unfair or discriminatory outcomes. It's crucial to be aware of and address this.\n",
            "*   **Explainability:** Some AI models, especially deep learning models, can be like \"black boxes.\" Understanding *why* they make certain decisions can be difficult.\n",
            "*   **Ethical Concerns:** As AI becomes more powerful, it raises ethical concerns around privacy, job displacement, and autonomy. These are crucial issues that need careful consideration.\n",
            "\n",
            "**In Conclusion**\n",
            "\n",
            "AI is a complex and evolving field, but at its core, it's about enabling computers to learn and solve problems like humans. This field is constantly evolving with new techniques and applications emerging all the time. This simplified explanation can serve as a foundation for further exploration as you delve deeper into specific AI technologies and applications.\n",
            "\n",
            "Hopefully, this breakdown has helped you understand the basic principles of how AI works! Let me know if you have more questions.\n",
            "\n"
          ]
        }
      ],
      "source": [
        "response = client.models.generate_content(\n",
        "    model=MODEL,\n",
        "    contents='How does AI work?'\n",
        ")\n",
        "print(response.text)"
      ]
    }
  ],
  "metadata": {
    "colab": {
      "collapsed_sections": [
        "Tce3stUlHN0L"
      ],
      "provenance": []
    },
    "kernelspec": {
      "display_name": "Python 3",
      "name": "python3"
    }
  },
  "nbformat": 4,
  "nbformat_minor": 0
}